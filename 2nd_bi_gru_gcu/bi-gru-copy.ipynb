{
 "cells": [
  {
   "cell_type": "code",
   "execution_count": 1,
   "metadata": {},
   "outputs": [
    {
     "name": "stderr",
     "output_type": "stream",
     "text": [
      "2022-11-13 10:15:51.883229: I tensorflow/core/platform/cpu_feature_guard.cc:193] This TensorFlow binary is optimized with oneAPI Deep Neural Network Library (oneDNN) to use the following CPU instructions in performance-critical operations:  AVX2 FMA\n",
      "To enable them in other operations, rebuild TensorFlow with the appropriate compiler flags.\n",
      "2022-11-13 10:15:53.374624: W tensorflow/tsl/platform/default/dso_loader.cc:66] Could not load dynamic library 'libnvinfer.so.7'; dlerror: libnvinfer.so.7: cannot open shared object file: No such file or directory; LD_LIBRARY_PATH: :/home/yubin/miniconda3/envs/mmmil/lib/\n",
      "2022-11-13 10:15:53.374724: W tensorflow/tsl/platform/default/dso_loader.cc:66] Could not load dynamic library 'libnvinfer_plugin.so.7'; dlerror: libnvinfer_plugin.so.7: cannot open shared object file: No such file or directory; LD_LIBRARY_PATH: :/home/yubin/miniconda3/envs/mmmil/lib/\n",
      "2022-11-13 10:15:53.374731: W tensorflow/compiler/tf2tensorrt/utils/py_utils.cc:38] TF-TRT Warning: Cannot dlopen some TensorRT libraries. If you would like to use Nvidia GPU with TensorRT, please make sure the missing libraries mentioned above are installed properly.\n",
      "[nltk_data] Downloading package stopwords to /home/yubin/nltk_data...\n",
      "[nltk_data]   Package stopwords is already up-to-date!\n",
      "2022-11-13 10:15:56.416096: E tensorflow/compiler/xla/stream_executor/cuda/cuda_driver.cc:267] failed call to cuInit: CUDA_ERROR_NO_DEVICE: no CUDA-capable device is detected\n",
      "2022-11-13 10:15:56.416148: I tensorflow/compiler/xla/stream_executor/cuda/cuda_diagnostics.cc:156] kernel driver does not appear to be running on this host (DESKTOP-RMUU0K9): /proc/driver/nvidia/version does not exist\n",
      "2022-11-13 10:15:56.416398: I tensorflow/core/platform/cpu_feature_guard.cc:193] This TensorFlow binary is optimized with oneAPI Deep Neural Network Library (oneDNN) to use the following CPU instructions in performance-critical operations:  AVX2 FMA\n",
      "To enable them in other operations, rebuild TensorFlow with the appropriate compiler flags.\n"
     ]
    },
    {
     "name": "stdout",
     "output_type": "stream",
     "text": [
      "WARNING:tensorflow:From /home/yubin/miniconda3/envs/mmmil/lib/python3.10/site-packages/tensorflow/python/autograph/pyct/static_analysis/liveness.py:83: Analyzer.lamba_check (from tensorflow.python.autograph.pyct.static_analysis.liveness) is deprecated and will be removed after 2023-09-23.\n",
      "Instructions for updating:\n",
      "Lambda fuctions will be no more assumed to be used in the statement where they are used, or at least in the same block. https://github.com/tensorflow/tensorflow/issues/56089\n"
     ]
    }
   ],
   "source": [
    "import os\n",
    "os.environ['CUDA_VISIBLE_DEVICES'] = '-1'\n",
    "from importlib import import_module\n",
    "import tensorflow as tf\n",
    "from tensorflow import keras\n",
    "from keras.api._v2 import keras as KerasAPI\n",
    "keras: KerasAPI = import_module(\"tensorflow.keras\")\n",
    "from keras.api._v2 import keras as KerasAPI\n",
    "from keras import layers\n",
    "import pandas as pd\n",
    "import numpy as np\n",
    "import nltk\n",
    "nltk.download('stopwords')\n",
    "from nltk.corpus import stopwords\n",
    "from nltk.stem.porter import PorterStemmer\n",
    "from nltk.tokenize import TreebankWordTokenizer\n",
    "from string import punctuation\n",
    "from sklearn.metrics import roc_auc_score, classification_report\n",
    "from preprocessing import prepro_csv1, prepro_csv2\n",
    "tf.config.run_functions_eagerly(True)\n",
    "tf.data.experimental.enable_debug_mode()\n",
    "\n",
    "stop_words = set(stopwords.words('english')).union(set(punctuation))\n",
    "stop_words = stop_words.union(('2.', '1.', '3.', '4.', '5.', '8.', '--'))\n",
    "tokenizer = TreebankWordTokenizer()\n",
    "\n",
    "df_, target = prepro_csv1(\"./data/train_set_no_duplicates.csv\")\n",
    "train_ds = tf.data.Dataset.from_tensor_slices((df_, target))\n",
    "\n",
    "test_df, t_target = prepro_csv2(\"./data/test.csv\")\n",
    "test_ds = tf.data.Dataset.from_tensor_slices((test_df, t_target))\n",
    "\n",
    "def custom_split_fn(string_tensor):\n",
    "    if tf.is_tensor(string_tensor):\n",
    "        string_numpy = string_tensor.numpy().decode()\n",
    "    else:\n",
    "        string_numpy = string_tensor.decode()\n",
    "    string_split_lst = [w for w in tokenizer.tokenize(string_numpy) if w not in stop_words]\n",
    "    return tf.ragged.constant(string_split_lst)\n",
    "\n",
    "max_length = 600\n",
    "max_tokens = 25000\n",
    "text_vectorization = layers.TextVectorization(\n",
    "    max_tokens=max_tokens,\n",
    "    output_mode=\"int\",\n",
    "    output_sequence_length=max_length,\n",
    "    standardize=\"lower_and_strip_punctuation\",\n",
    "    ngrams=2,\n",
    "    split=custom_split_fn\n",
    ")\n",
    "\n",
    "text_only_train_ds = train_ds.map(lambda x, y: x)\n",
    "text_vectorization.adapt(text_only_train_ds)\n",
    "\n",
    "test_DS = test_ds.map(\n",
    "    lambda x, y: (tf.numpy_function(text_vectorization, [x], tf.int64), y),\n",
    "    num_parallel_calls=4).batch(32)\n",
    "\n",
    "model = keras.models.load_model(\"best_weight.h5\", compile = False)\n",
    "predict = model.predict(test_DS, verbose=0)\n",
    "# predict = prediction.copy()\n",
    "# prediction[prediction>=0.5] = 1\n",
    "# prediction[prediction<0.5] = 0\n",
    "\n",
    "# print(classification_report(t_target, prediction, digits=4))\n",
    "# print(roc_auc_score(t_target, prediction))"
   ]
  },
  {
   "cell_type": "code",
   "execution_count": 16,
   "metadata": {},
   "outputs": [
    {
     "data": {
      "text/plain": [
       "pandas.core.series.Series"
      ]
     },
     "execution_count": 16,
     "metadata": {},
     "output_type": "execute_result"
    }
   ],
   "source": [
    "type(test_df)"
   ]
  },
  {
   "cell_type": "code",
   "execution_count": 22,
   "metadata": {},
   "outputs": [
    {
     "name": "stdout",
     "output_type": "stream",
     "text": [
      "6                                                                                                                                                                                                                                                                                                         chronic ichs at the leftfrontal, leftoccipital & right temporal lobe; resolving process\\r\\nno acute infarction\\r\\nno definite evidence of dai\\n\n",
      "22               1. ichs in both frontal lobe, lefttemporal lobe\\r\\n2. extraaxial hemorrhage in the leftcerebral convexity.\\r\\n3. sdh in the right frontoparietal area, falx, and tents.\\r\\n4. acute-subacute infarction in the leftposterior internal capsule, leftp-t-o lobe.\\r\\n5. old infarction at the right temporal lobe\\r\\n6. microbleeds in corpus callosum, frontoparietal lobe, probable dai.\\r\\n7. sah, and ivh.\\r\\n8. both otoamstoiditis.\\n\n",
      "66                                                                                                                                                                                                                                                                                                                                                                                                   focal acute infarction at the right occipital lobe\\n\n",
      "181                                                                                                                                                                                                                                                                                                                                                                   no significant interval changeof acute-subacute infarction in right mca territory\\n\n",
      "183                                                                                                                                                                                                                                                                                                                                                    1. diffusion restriction at leftmca territory\\r\\n  --> infarction\\r\\n2. right cerebral edema\\r\\n\\n\n",
      "257                                                                                                                                                                                       1. probable focal restricted diffusion at the lefthippocampus.\\r\\n -> indeterminate abnormal finding.\\r\\n2. a small unruptured aneurysm of the leftparaclinoid ica, about 3 mm in size (medially projecting, just distal to the ophthalmic arightery origin).\\n\n",
      "696                                                                                                                                                                                                                                                                         1. right mca infarction.\\r\\n2. lefta2 focal moderate stenosis\\r\\n3. muleftfocal mild to moderate stenosisat both m2.\\r\\n4. luminal irregularity at bilateral cavernous ica.\\n\n",
      "898                                                                                                                                                                                                                           1. focal dwi high sis at leftfrontal lobe r/o infarction\\r\\n   -- rec) follow up\\r\\n2. old infarction at the right cerebellum both centrum semiovale.\\r\\n3. microangiopathy\\r\\n4. mra: n/s\\r\\n4. both maxillary sinusitis\\n\n",
      "1246                                                                                                                                                                                                                                                                  1. probable ischemic changeat the right. frontal white matter.\\r\\n2. probably aggravation of luminal narrowing at the right. proximal m1 segment.\\r\\n3. c/w moyamoya disease.\\r\\n\\n\n",
      "1265                                                                                                                                                                                                                                                                                                                                                                                                                muleftfocal infarctionat cerebellum\\n\n",
      "1414                                                                                                                                              indeterminate restricted diffusion in the brain (bilateral frontal, parietal, occipital and temporal lobe; and splenium of corpus callosum).\\r\\n  ddx.\\r\\n      1) acute hyperightensive encephalopathy (pres).\\r\\n      2) hypoglycemic encephalopathy.\\r\\n      3) hypoxic ischemic encephalopathy.\\n\n",
      "1420    1. focal diffusion restrictions in the right frontal lobe right temporal lobe insula.\\r\\n   -- d/t hemorrhagic contusions or true infarction\\r\\n   -- rec) follow up\\r\\n2. sdh with sd effusion in the right cerebral convexity.\\r\\n3. sd effusion in the leftcerebral convexity.\\r\\n4. diffuse sah.\\r\\n5. microbleeds in the right temporal lobe cerebellum\\r\\n6. encephalomalacic changein the lefttemporal lobe\\r\\n7. both mastoid effusion.\\n\n",
      "1432                                                                                                                                                                                                                                                                                                                                        increased in the extent of diffusion restricted area at leftbaal ganglia\\r\\n  -- extension to lsa territory\\n\n",
      "1450                                                                                                                                                                                                                                                                                                          interval increased extent of cytotixic edema at the right mca territories\\r\\na small new infarction at the leftfrontal lobesuperior gyrus\\n\n",
      "1487                                                                                                                                                                                                                                                                                                                                                              no significant changeof acute infarction at the right thalamus and both temporal lobe\\n\n",
      "1494                                                                                                                                                             1. increased extent of acute infarction with hemorrhagic transformation at the leftmca territories.\\r\\n2. old infarctionat both centrum semiovale, right parietotemporal lobe\\r\\n3. mra\\n - leftproximal ica occlusion\\r\\n - severe stenosisat right proximal ica, right cavernous ica\\n\n",
      "1560                                                                                                                           1.  old infarction in leftfrontal lobe\\r\\n2. t2 high si and suspicious enhancing lesion at leftbasal ganglia.\\r\\n   -> probably subacute infarction to chronic infarction.\\r\\n       -> rec) contrast enhanced brain ct or follow up with brain mr(ce).\\r\\n3. postop. state for both eyeball.\\r\\n4. mega cisterna magna.\\n\n",
      "1664                                                                                                                                                                                                                                                                                                                   suspicious diffuse corightical diffusion retriction in both cerebral hemispheres, r/o hypoxic brain injury\\r\\n -- rec) follow up\\n\n",
      "1750                                                                                                                                                                                                                                                                                                                                                                                          focal aucte infarctionin the lefttemporal, occipital lobe\\n\n",
      "1827                                                                                                                                                                                                                                                   subacute infarction with hemorrhagic transformation at the right parietal & occipitotemporal lobe and leftmidbrain (tectum)\\r\\nchronic sdh along the right parietal - occipital & temporal lobe \\n\n",
      "1932                                                                                                                                                                                         indeterminate lesions at the right thalamus, leftperiaqueductal gray, and both parietal lobe.\\r\\n - ddx.\\r\\n     1) vasculitis such as neurobehcet's diesase.\\r\\n     2) demyelinating disease such as muleftple sclerosis.\\r\\n     3) subacute infarction\\n\n",
      "2038                                                                                 1. equivocal dwi abnormality at left lateral medulla and left cerebellum\\n     --> arightifact, more likely\\r\\n       --> rec) clinical correlation\\r\\n2. microbleed at leftbasal ganglia\\r\\n3. mra\\n  - focal mild stenosisat left va origin\\r\\n  - diffuse luminal narrowing of left v4 and luminal narrowing of left pica\\r\\n      -->r/o dissection of left v4\\n\n",
      "2247                                                                                                                                                                                                                                                                                                                                                                                                                    acute infarction at leftinsula.\\n\n",
      "2381                                                                                                                                                                                                                                                                                                                                                                                                                 probabable hypoxic ischemic injury\\n\n",
      "2448                                                                                                                                                                                                                                                                 muleftple punctate lesions in the bilateral cerebral hemispheres.\\r\\n ddx.\\r\\n        1) cerebral fat embolism.\\r\\n        2) septic embolism.\\r\\n        3) diffuse axonal injury\\n\n",
      "2472                                                                                                                                                                                                                                                                                                                                               1. acute infaction at leftfrontal lobe\\r\\n2. mra\\r\\n - lefta1 aplasia\\r\\n - mild stenosisat right v4\\n\n",
      "Name: Conclusion\\n, dtype: object\n",
      "=========================================================\n"
     ]
    }
   ],
   "source": [
    "import sys\n",
    "np.set_printoptions(precision=6, suppress=True, threshold=sys.maxsize)\n",
    "\n",
    "import pandas as pd\n",
    "pd.set_option('display.max_colwidth', 10000)\n",
    "\n",
    "lst = np.where(prediction.squeeze()!=t_target)\n",
    "for idx in lst:\n",
    "    print(test_df[idx])\n",
    "    print('=========================================================')"
   ]
  },
  {
   "cell_type": "code",
   "execution_count": null,
   "metadata": {},
   "outputs": [],
   "source": []
  },
  {
   "cell_type": "code",
   "execution_count": 9,
   "metadata": {},
   "outputs": [
    {
     "name": "stdout",
     "output_type": "stream",
     "text": [
      "83/83 [==============================] - 175s 2s/step\n"
     ]
    }
   ],
   "source": [
    "prediction = model.predict(test_DS, verbose=1)\n",
    "predict = prediction.copy()\n",
    "prediction[prediction>=0.5] = 1\n",
    "prediction[prediction<0.5] = 0"
   ]
  },
  {
   "cell_type": "code",
   "execution_count": null,
   "metadata": {},
   "outputs": [],
   "source": [
    "\n",
    "result = np.concatenate((predict, 1-predict), axis=1)\n",
    "print(result)"
   ]
  }
 ],
 "metadata": {
  "kernelspec": {
   "display_name": "Python 3.10.0 ('mmmil')",
   "language": "python",
   "name": "python3"
  },
  "language_info": {
   "codemirror_mode": {
    "name": "ipython",
    "version": 3
   },
   "file_extension": ".py",
   "mimetype": "text/x-python",
   "name": "python",
   "nbconvert_exporter": "python",
   "pygments_lexer": "ipython3",
   "version": "3.10.0"
  },
  "orig_nbformat": 4,
  "vscode": {
   "interpreter": {
    "hash": "5eb58ded541208b140893eab9dbb15f91ea6200ee73a1cac965ade851f1ec60e"
   }
  }
 },
 "nbformat": 4,
 "nbformat_minor": 2
}
