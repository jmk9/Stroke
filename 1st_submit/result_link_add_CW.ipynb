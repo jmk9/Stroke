{
 "cells": [
  {
   "cell_type": "code",
   "execution_count": 1,
   "metadata": {},
   "outputs": [
    {
     "name": "stderr",
     "output_type": "stream",
     "text": [
      "c:\\Users\\mmmil\\anaconda3\\envs\\linkbert\\lib\\site-packages\\tqdm\\auto.py:22: TqdmWarning: IProgress not found. Please update jupyter and ipywidgets. See https://ipywidgets.readthedocs.io/en/stable/user_install.html\n",
      "  from .autonotebook import tqdm as notebook_tqdm\n",
      "Using custom data configuration default-1d6b7bc23d832134\n",
      "Reusing dataset csv (C:\\Users\\mmmil\\.cache\\huggingface\\datasets\\csv\\default-1d6b7bc23d832134\\0.0.0\\9144e0a4e8435090117cea53e6c7537173ef2304525df4a077c435d8ee7828ff)\n"
     ]
    }
   ],
   "source": [
    "from datasets import load_dataset\n",
    "dataset = load_dataset(\"csv\", data_files={\"train\":['train_data2.csv'], \"val\":['val_data2.csv'], \"test\":['test_data2.csv']})"
   ]
  },
  {
   "cell_type": "code",
   "execution_count": 2,
   "metadata": {},
   "outputs": [],
   "source": [
    "### linkbert ###\n",
    "from torch import nn\n",
    "from transformers import AutoTokenizer, AutoModel, TrainingArguments, Trainer, AutoModelForSequenceClassification,BertForSequenceClassification \n",
    "\n",
    "tokenizer = AutoTokenizer.from_pretrained('michiyasunaga/BioLinkBERT-base')\n",
    "model = BertForSequenceClassification.from_pretrained(r\"D:\\ai_base_prog\\linkber\\results_20221027_205634\\checkpoint-4005\")"
   ]
  },
  {
   "cell_type": "code",
   "execution_count": 3,
   "metadata": {},
   "outputs": [
    {
     "name": "stderr",
     "output_type": "stream",
     "text": [
      "Parameter 'function'=<function preprocess_function at 0x0000018CED5841F0> of the transform datasets.arrow_dataset.Dataset._map_single couldn't be hashed properly, a random hash was used instead. Make sure your transforms and parameters are serializable with pickle or dill for the dataset fingerprinting and caching to work. If you reuse this transform, the caching mechanism will consider it to be different from the previous calls and recompute everything. This warning is only showed once. Subsequent hashing failures won't be showed.\n",
      "100%|██████████| 4/4 [00:00<00:00, 15.70ba/s]\n",
      "100%|██████████| 2/2 [00:00<00:00, 31.32ba/s]\n",
      "100%|██████████| 2/2 [00:00<00:00, 32.42ba/s]\n"
     ]
    }
   ],
   "source": [
    "def preprocess_function(examples):\n",
    "    return tokenizer(examples[\"text\"], truncation=True, max_length=512) #max_length=512\n",
    "tokenized_data = dataset.map(preprocess_function, batched=True)\n",
    "\n",
    "from transformers import DataCollatorWithPadding\n",
    "\n",
    "data_collator = DataCollatorWithPadding(tokenizer=tokenizer)\n",
    "\n",
    "from sklearn.metrics import accuracy_score, precision_recall_fscore_support, roc_auc_score\n",
    "\n",
    "def compute_metrics(pred):\n",
    "    labels = pred.label_ids\n",
    "    preds = pred.predictions.argmax(-1)\n",
    "    precision, recall, f1, _ = precision_recall_fscore_support(labels, preds, average='binary')\n",
    "    acc = accuracy_score(labels, preds)\n",
    "    auc = roc_auc_score(labels, preds)\n",
    "    return {\n",
    "        'accuracy': acc,\n",
    "        'f1': f1,\n",
    "        'precision': precision,\n",
    "        'recall': recall,\n",
    "        'auroc': auc\n",
    "    }"
   ]
  },
  {
   "cell_type": "code",
   "execution_count": 4,
   "metadata": {},
   "outputs": [],
   "source": [
    "import datetime\n",
    "\n",
    "training_args = TrainingArguments(\n",
    "    output_dir=f\"./results_link_{datetime.datetime.now().strftime('%Y%m%d_%H%M%S')}\",\n",
    "    evaluation_strategy=\"epoch\",\n",
    "    logging_strategy=\"epoch\",\n",
    "    save_strategy='epoch',\n",
    "    learning_rate=2e-5,\n",
    "    per_device_train_batch_size=4,\n",
    "    per_device_eval_batch_size=4,\n",
    "    num_train_epochs=100,\n",
    "    weight_decay=0.01,\n",
    ")\n",
    "\n",
    "trainer = Trainer(\n",
    "    model=model,\n",
    "    args=training_args,\n",
    "    train_dataset=tokenized_data[\"train\"],\n",
    "    eval_dataset=tokenized_data[\"val\"],\n",
    "    tokenizer=tokenizer,\n",
    "    compute_metrics=compute_metrics,\n",
    "    data_collator=data_collator\n",
    ")"
   ]
  },
  {
   "cell_type": "code",
   "execution_count": 6,
   "metadata": {},
   "outputs": [
    {
     "name": "stderr",
     "output_type": "stream",
     "text": [
      "The following columns in the evaluation set  don't have a corresponding argument in `BertForSequenceClassification.forward` and have been ignored: text.\n",
      "***** Running Evaluation *****\n",
      "  Num examples = 1067\n",
      "  Batch size = 4\n",
      " 99%|█████████▉| 265/267 [00:10<00:00, 31.95it/s]Automatic Weights & Biases logging enabled, to disable set os.environ[\"WANDB_DISABLED\"] = \"true\"\n",
      "Failed to detect the name of this notebook, you can set it manually with the WANDB_NOTEBOOK_NAME environment variable to enable code saving.\n",
      "\u001b[34m\u001b[1mwandb\u001b[0m: Currently logged in as: \u001b[33mckdtjs0609\u001b[0m. Use \u001b[1m`wandb login --relogin`\u001b[0m to force relogin\n"
     ]
    },
    {
     "data": {
      "text/html": [
       "Tracking run with wandb version 0.13.4"
      ],
      "text/plain": [
       "<IPython.core.display.HTML object>"
      ]
     },
     "metadata": {},
     "output_type": "display_data"
    },
    {
     "data": {
      "text/html": [
       "Run data is saved locally in <code>d:\\ai_base_prog\\linkber\\wandb\\run-20221027_213815-304ombt3</code>"
      ],
      "text/plain": [
       "<IPython.core.display.HTML object>"
      ]
     },
     "metadata": {},
     "output_type": "display_data"
    },
    {
     "data": {
      "text/html": [
       "Syncing run <strong><a href=\"https://wandb.ai/ckdtjs0609/huggingface/runs/304ombt3\" target=\"_blank\">./results_link_20221027_213800</a></strong> to <a href=\"https://wandb.ai/ckdtjs0609/huggingface\" target=\"_blank\">Weights & Biases</a> (<a href=\"https://wandb.me/run\" target=\"_blank\">docs</a>)<br/>"
      ],
      "text/plain": [
       "<IPython.core.display.HTML object>"
      ]
     },
     "metadata": {},
     "output_type": "display_data"
    },
    {
     "name": "stderr",
     "output_type": "stream",
     "text": [
      "100%|██████████| 267/267 [00:12<00:00, 20.66it/s]\n"
     ]
    }
   ],
   "source": [
    "metrics = trainer.evaluate(tokenized_data[\"test\"])"
   ]
  },
  {
   "cell_type": "code",
   "execution_count": 5,
   "metadata": {},
   "outputs": [
    {
     "name": "stderr",
     "output_type": "stream",
     "text": [
      "The following columns in the test set  don't have a corresponding argument in `BertForSequenceClassification.forward` and have been ignored: text.\n",
      "***** Running Prediction *****\n",
      "  Num examples = 1067\n",
      "  Batch size = 4\n",
      "100%|██████████| 267/267 [00:09<00:00, 33.62it/s]"
     ]
    },
    {
     "name": "stdout",
     "output_type": "stream",
     "text": [
      "test_loss  :  0.09496653079986572\n",
      "test_accuracy  :  0.985941893158388\n",
      "test_f1  :  0.940711462450593\n",
      "test_precision  :  0.9015151515151515\n",
      "test_recall  :  0.9834710743801653\n",
      "test_auroc  :  0.9848645012492792\n",
      "test_runtime  :  11.4196\n",
      "test_samples_per_second  :  93.436\n",
      "test_steps_per_second  :  23.381\n"
     ]
    },
    {
     "data": {
      "image/png": "[encoded data removed]",
      "text/plain": [
       "<Figure size 1000x700 with 2 Axes>"
      ]
     },
     "metadata": {},
     "output_type": "display_data"
    }
   ],
   "source": [
    "metrics = trainer.predict(tokenized_data[\"test\"])\n",
    "import numpy as np\n",
    "\n",
    "y_pred = []\n",
    "for i in metrics.predictions:\n",
    "    a= np.argmax(i)\n",
    "    y_pred.append(a)\n",
    "y_true = metrics.label_ids\n",
    "\n",
    "import sklearn \n",
    "confusion_matrix = sklearn.metrics.confusion_matrix(list(y_true), list(y_pred))\n",
    "import seaborn as sn\n",
    "import pandas as pd\n",
    "import matplotlib.pyplot as plt\n",
    "\n",
    "df_cm = pd.DataFrame(confusion_matrix, index = ['0','1'],\n",
    "                  columns = ['0','1'])\n",
    "plt.figure(figsize = (10,7))\n",
    "sn.heatmap(df_cm, annot=True, cmap='Blues', fmt='')\n",
    "for i in metrics.metrics:\n",
    "    print(i,' : ',metrics.metrics[i])"
   ]
  },
  {
   "cell_type": "code",
   "execution_count": 6,
   "metadata": {},
   "outputs": [
    {
     "name": "stdout",
     "output_type": "stream",
     "text": [
      "Clinical information : multiple cerebral infarction\n",
      "\n",
      "Axial T1WI, sagittal T1WI, axial T2WI, axial FLAIR, axial T2* GRE image, intracranial TOF MRA 획득하였으며 neck MRA에 대해서 조영증강을 시행함.\n",
      "1. Chronic infarctions in right MCA territory, both frontal lobes, left temporal lobe.\n",
      "    - limited evaluation of infarction without DWI.\n",
      "2. Microbleeds in both frontoparietotemporal lobes, c/w DAI. \n",
      "3. Right otomastoiditis.\n",
      "4. Left mastoid effusion.\n",
      "5. Both sphenoid sinusitis.\n",
      "6. MRA : both MCA occlusion\n",
      "\n",
      " 0\n",
      "---------------------------------------------------------------------------\n",
      "-acute infarction at the left basal ganglia, small size\n",
      "MRA: compare to the latest MRA;  interval improving state of stenosis of the right MCA\n",
      " 0\n",
      "---------------------------------------------------------------------------\n",
      "Clinical information : lung cancer\n",
      "\n",
      "Axial T1WI, sagittal T1WI, axial T2WI, axial FLAIR, axial T2* GRE image 획득하였으며 조영증강을 시행함.\n",
      "\n",
      "a 6mm sized enhancing lesion with microbleeds at the left BG\n",
      "    → indeterminate enhancing lesion\n",
      "        DDx. 1) metastasis\n",
      "               2) subacute lacunar infarction\n",
      "microangiopathy\n",
      " 0\n",
      "---------------------------------------------------------------------------\n",
      "Clinical information : Cerebral infarction\n",
      "\n",
      "Axial T1WI, sagittal T1WI, axial T2WI, axial FLAIR, axial T2* GRE image, axial DWI, intracranial TOF MRA 획득하였으며 neck MRA에 대해서 조영증강을 시행함.\n",
      "\n",
      "Limited evaluation d/t motion artifact.\n",
      "\n",
      "1. Focal acute infarctios in left temporooccipital lobe.\n",
      "2. Microbleeds at left cerebellum, pons, right thalamus.\n",
      "3. MRA\n",
      " - severe stenosis at left distal V4\n",
      " - left inferior M2 occlusion\n",
      " - right M1 mild stenosis\n",
      " 0\n",
      "---------------------------------------------------------------------------\n",
      "Clinical information : Spontaneous ICH Basal ganglia\n",
      "\n",
      "Axial T1WI, sagittal T1WI, axial T2WI, axial FLAIR, axial T2* GRE image, axial DWI, intracranial TOF MRA 획득하였으며 neck MRA에 대해 조영증강을 시행함. \n",
      "1. Encephalomalacic change at left frontal, parietal lobe and basal ganglia\n",
      "     -Focal diffusion restriction within deadspace, probable hematoma or infarction\n",
      "2. Both mastoid effusion\n",
      "3. MRA\n",
      "     - Left M1 occlusion\n",
      " 0\n",
      "---------------------------------------------------------------------------\n",
      "Clinical information : h/o acute infarction at Lt. frontal and occipital lobe\n",
      "Comparison : MR\n",
      "\n",
      "Intracranial TOF MRA 획득하였으며 neck MRA에 대해서 조영증강을 시행함.\n",
      "\n",
      "Lt. M1에 luminal narrowing이 관찰되며 이전 MR과 improving process로 판단된다.\n",
      "Improving process of probable dissection at Lt. M1\n",
      " 0\n",
      "---------------------------------------------------------------------------\n",
      "CI, ALL.\n",
      "Axial T1WI, sagittal T1WI, axial T2WI, axial FLAIR, axial T2* GRE image, axial DWI 획득하였으며 조영증강을 시행함.\n",
      "\n",
      "Previously identified focal restricted diffusion at the left posterior limb of internal capsule (acute infarction).\n",
      " -> Normalization on this MRI.\n",
      "  DDx. Old infarction, focal cytotoxic edema, artifact.\n",
      "\n",
      "Three microbleeds at the cerebellun, and left temporal lobe (nonspecific pattern).\n",
      "No acute lesions in the brain on DWI and CE T1WI.\n",
      "Unremarkable brain MRI. \n",
      "\n",
      " 0\n",
      "---------------------------------------------------------------------------\n",
      "CI, vasospasm. SAH.\n",
      "Axial T2* GRE image, axial DWI 획득하였으며 조영증강은 시행하지 않았음.\n",
      "\n",
      "Multiple areas of new acute infartions at the bilateral frontal lobes (indicated, IDX 2 IM 101, 99, 93).\n",
      "Other areas of infarcted brain are of no interval change in extent.\n",
      "SWI: SAH.\n",
      "Multiple areas of new acute infartions at the bilateral frontal lobes.\n",
      "\n",
      " 0\n",
      "---------------------------------------------------------------------------\n",
      "Clinical information : Fracture of Cervical Axia\n",
      "\n",
      "Axial T1WI, sagittal T1WI, axial T2WI, axial FLAIR, axial T2* GRE image, axial DWI 획득하였으며 조영증강은 시행하지 않았음.\n",
      "1. Diffuse hypoxic brain injury.\n",
      "2. Microbleeding in left occipital lobe.\n",
      "3. Sinusitis, both ethmoids, both sphenoids, left maxillary sinuses.\n",
      "4. Both mastoid effusion.\n",
      " 0\n",
      "---------------------------------------------------------------------------\n",
      "Clinical information : tremor\n",
      "\n",
      "Axial T1WI, sagittal T1WI, axial T2WI, axial FLAIR, axial T2* GRE image 획득하였으며 조영증강은 시행하지 않았음.\n",
      "1. Diffuse brain atrophy\n",
      "2. Microangiopathy\n",
      "3. Lacunar infarction at the right mid brain\n",
      " 1\n",
      "---------------------------------------------------------------------------\n",
      "-no specific interval change compare to the latest MR brain DWI\n",
      " cerebral fat embolism, suggestive\n",
      " 1\n",
      "---------------------------------------------------------------------------\n",
      "-acute infarction at the left cerebral peduncle\n",
      "R/O, acute infarction at the left inferior cerebellar hemisphere\n",
      " 0\n",
      "---------------------------------------------------------------------------\n",
      "-acute infarction at the left thalamus\n",
      "stenosis at the left PCA\n",
      " 0\n",
      "---------------------------------------------------------------------------\n",
      "-Multifocal acute infarctions in cerebellum, left pons, both thalami, both temporal lobes.\n",
      " 0\n",
      "---------------------------------------------------------------------------\n",
      "-No significant change of acute infarctions in the left frontal, parietal, temporal lobes.\n",
      " 0\n",
      "---------------------------------------------------------------------------\n"
     ]
    },
    {
     "name": "stderr",
     "output_type": "stream",
     "text": [
      "100%|██████████| 267/267 [00:22<00:00, 33.62it/s]"
     ]
    }
   ],
   "source": [
    "from sklearn.model_selection import train_test_split\n",
    "import pandas as pd \n",
    "\n",
    "data = pd.read_csv(r'D:\\ai_base_prog\\train_set_no_duplicates.csv',encoding='euc-kr')\n",
    "data['text'] = data['Findings'].fillna('-') + data['Conclusion\\n'].fillna('-')\n",
    "data = data.drop(columns=['Findings', 'Conclusion\\n'])\n",
    "data = data.rename(columns={'AcuteInfarction':'label'})\n",
    "\n",
    "x_train, x_valid, y_train, y_valid = train_test_split(data['text'], data['label'], test_size=0.2, shuffle=True, stratify=data['label'], random_state=34)\n",
    "x_train, x_test, y_train, y_test = train_test_split(x_train, y_train, test_size=0.25, shuffle=True, stratify=y_train, random_state=34)\n",
    "\n",
    "for i in range(len(y_true)):\n",
    "    if y_true[i]!=y_pred[i]:\n",
    "        print(x_test.values[i],y_test.values[i])\n",
    "        print('---------------------------------------------------------------------------')"
   ]
  },
  {
   "cell_type": "code",
   "execution_count": 6,
   "metadata": {},
   "outputs": [
    {
     "name": "stdout",
     "output_type": "stream",
     "text": [
      "CI, 양다리, 좌측 팔 위약감. HCC /c PVT, LC(B, CP:6A) /c EV, chronic HBV\n",
      "Axial T1WI, sagittal T1WI, axial T2WI, axial FLAIR, axial T2* GRE image, axial DWI, intracranial TOF MRA 획득하였으며 neck MRA에 대해 조영증강을 시행함.\n",
      "\n",
      "<Brain, CSF space, and related findings>\n",
      "Mostly leptomeningeal enhancement at the right parietal sulci, with equivocal parenchymal enhancement, several foci of restricted diffusion, and edema of the adjacent parenchyma.\n",
      "    -> Leptomeningeal metastasis at the right parietal sulci, more-likely. \n",
      "  - DDx. subacute infarction, less likely. \n",
      "SAH (on SWI) of the right fronto-parietal sulci, adjacent to the leptomeningeal enhancement.\n",
      "\n",
      "<MRA>\n",
      "Unremarkable.\n",
      "\n",
      "<Skull, PNS, orbits, and temporal>\n",
      "Unremarkable.\n",
      "1. Leptomeningeal metastasis at the right parietal sulci, more-likely. \n",
      "  - DDx. subacute infarction, less likely. \n",
      "2. SAH of the right fronto-parietal sulci, adjacent to the leptomeningeal enhancement.\n",
      "3. MRA: unremarkable.\n",
      " 0\n",
      "---------------------------------------------------------------------------\n",
      "Clinical information : Left hemiparesis.\n",
      "\n",
      "Axial T1WI, sagittal T1WI, axial T2WI, axial FLAIR, axial T2* GRE image, axial DWI, intracranial TOF MRA 획득하였으며 neck MRA에 대해서 조영증강을 시행함.\n",
      "\n",
      "Medulla의 right anterior side에 longitudinal하게 diffusion restriction이 관찰되며, indeterminate medullary cytotoxic edema의 가능성이 있겠으며 Wallerian degeneration의 가능성 역시 배제할 수 없겠음.\n",
      "\n",
      "그 이외의 소견은 conclusion 참고바람.\n",
      "1. r/o Indeterminate medullary cytotoxic edema.\n",
      "    - DDx. Wallerian degeneration.\n",
      "2. Right VAO focal severe stenosis.\n",
      " 1\n",
      "---------------------------------------------------------------------------\n",
      "CI, multifocal acute infarctions (외부병원 DWI).\n",
      "Intracranial TOF MRA, neck TOF MRA 획득하였으며 조영증강은 시행하지 않았음.\n",
      "\n",
      "Complete occlusion at the proximal BA.\n",
      "Complete occlusion at the left distal V2 segment.\n",
      "Persistent trigeminal artery (PTA), right.\n",
      "A small unruptured aneurysm arising from the right PTA, about 3 mm in size.\n",
      "Diffuse mild stenoses of the bilateral cavernous to supraclinoid ICAs.\n",
      "Focal mild stenosis at the right proximal ICA.\n",
      "\n",
      "Complete occlusion at the proximal BA.\n",
      "Complete occlusion at the left distal V2 segment.\n",
      "Persistent trigeminal artery (PTA), right.\n",
      "A small unruptured aneurysm arising from the right PTA, about 3 mm in size.\n",
      "Diffuse mild stenoses of the bilateral cavernous to supraclinoid ICAs.\n",
      "Focal mild stenosis at the right proximal ICA.\n",
      "\n",
      " 0\n",
      "---------------------------------------------------------------------------\n",
      "CI, traumatic SDH.\n",
      "Axial T2* GRE image, axial DWI 획득하였으며 조영증강은 시행하지 않았음.\n",
      "[ADDENDUM]\n",
      "CI, traumatic SDH.\n",
      "Axial T2* GRE image, axial DWI 획득하였으며 조영증강은 시행하지 않았음.1. ICH at the left frontal pole.\n",
      "2. No evidence of acute infarctions.\n",
      "3. Previous EVD tract at the right frontal lobe.\n",
      "4. Small amont of extra-axial fluid along the bilateral cerebral convexities.\n",
      "5. SAH and IVH.\n",
      "\n",
      "[ADDENDUM]\n",
      "1. ICH at the left frontal pole.\n",
      "2. Probable acute infarctions of the bilateral frontal lobes (including precentral gyri).\n",
      " DDx. artifact.\n",
      "3. Previous EVD tract at the right frontal lobe.\n",
      "4. Small amont of extra-axial fluid along the bilateral cerebral convexities.\n",
      "5. SAH and IVH.\n",
      " 1\n",
      "---------------------------------------------------------------------------\n",
      "Clinical information : stroke\n",
      "\n",
      "Axial T1WI, sagittal T1WI, axial T2WI, axial FLAIR, axial T2* GRE image, axial DWI, intracranial TOF MRA 획득하였으며 neck MRA에 대해서 조영증강을 시행함.\n",
      "Subacute-chronic infarction in right temporal lobe.\n",
      "Diffuse brain atrophy.\n",
      "Left maxillary sinusitis.\n",
      "MRA\n",
      " - both proximal ICAs, mild stenosis\n",
      " - focal severe stenosis at both VA origins\n",
      " 0\n",
      "---------------------------------------------------------------------------\n",
      "Clinical information : mental change, R/O seizure\n",
      "Axial T1WI, sagittal T1WI, axial T2WI, axial FLAIR, axial T2* GRE image, axial DWI, intracranial TOF MRA 획득하였으며 neck MRA에 대해 조영증강을 시행함.\n",
      "\n",
      "<Brain, CSF space, and related findings>\n",
      "Indeterminate focal diffusion restriction at the right pons\n",
      "  → probable artifact\n",
      "     DDx. true lesion, less likely\n",
      "  → rec) F/U DWI.\n",
      "Focal microbleed & serpentine dark SI along the sulci at the left frontal lobe\n",
      "  → rec) F/U\n",
      "Microbleeds at the right frontal, and occipital lobes\n",
      "Microangiopathy\n",
      "\n",
      "<MRA>\n",
      "Focal moderate tos severe stenosis of both VAO.\n",
      "\n",
      "<Skull, PNS, orbits, and temporal>\n",
      "Unremarkable.\n",
      "Indeterminate focal diffusion restriction at the right pons\n",
      "  → probable artifact\n",
      "     DDx. true lesion, less likely\n",
      "  → rec) F/U DWI.\n",
      "Focal microbleed & serpentine dark SI along the sulci at the left frontal lobe\n",
      "  → rec) F/U\n",
      " 1\n",
      "---------------------------------------------------------------------------\n",
      "nan 0\n",
      "---------------------------------------------------------------------------\n",
      "Clinical information : Acute lymphocytic leukemia\n",
      "\n",
      "Axial T2* GRE image, axial DWI 획득하였으며 조영증강은 시행하지 않았음.\n",
      "[ADDENDUM]\n",
      "Clinical information : Acute lymphocytic leukemia, monoparesis, Rt UE.\n",
      "\n",
      "Axial T2* GRE image, axial DWI 획득하였으며 조영증강은 시행하지 않았음.No evidence of acute infarction\n",
      "[ADDENDUM]\n",
      "Acute infarction, Lt posterior limb of internal capsule.\n",
      "\n",
      " 1\n",
      "---------------------------------------------------------------------------\n",
      "Clinical information : 우측 상하지 위약감. 언어장애.\n",
      "\n",
      "Axial T1WI, sagittal T1WI, axial T2WI, axial FLAIR, axial T2* GRE image, axial DWI, intracranial TOF MRA 획득하였으며 neck MRA에 대해서 조영증강을 시행함.\n",
      "\n",
      "S/P mechanical thromlization(2012.3.24)\n",
      "Limited evaluation due to motion artifact.\n",
      "\n",
      "Diffusion restriction을 보이는 병변들이 양측 parietal, occipital lobe과 cerebellum에 있고, 양측 thalamus에도 보임.\n",
      "Left basal ganglia에는 hemorrhagic transformation을 보이는 diffusion restriction lesion들이 있고 이는 ICH와 함께 intraventricular extension하여 IVH도 동반되어 있음.\n",
      "\n",
      "현 MRA에서 vessel의 flow는 잘보이고 있음.\n",
      "1. Multiple restricted diffusion lesions at both parieto-occipital lobes, both cerebellum, right thalamus and left basal ganglia.\n",
      "     - ICH with intraventricular extension at the left BG and IVH.\n",
      "2. S/P mechanical thrombctmyh\n",
      " 0\n",
      "---------------------------------------------------------------------------\n",
      "nan 0\n",
      "---------------------------------------------------------------------------\n",
      "nan 1\n",
      "---------------------------------------------------------------------------\n",
      "CI, trauma, headache.\n",
      "Axial T1WI, sagittal T1WI, axial T2WI, axial FLAIR, axial T2* GRE image 획득하였으며 조영증강은 시행하지 않았음.\n",
      "<Brain, CSF space, and related findings>\n",
      "Small acute EDH at the right frontal convexity.\n",
      "Old lacunar infarction at the left corona radiata.\n",
      "Minute widening of extra-axial space of the bilateral cerebral convexities, nearly of CSF signal with absent cortical veins on SWI.\n",
      " -> Bilateral subdural hygroma.\n",
      "Microbleeds: bilateral parietal white matter, right side of splenium of corpus callosum, and pons.\n",
      " -> Possible diffuse axonal injury.\n",
      "<Skull, PNS, orbits, and temporal>\n",
      "Unremarkable.\n",
      "1. Small acute EDH at the right frontal convexity.\n",
      "2. Possible diffuse axonal injury.\n",
      "3. Bilateral subdural hygroma.\n",
      "4. Old lacunar infarction at the left corona radiata.\n",
      "\n",
      " 0\n",
      "---------------------------------------------------------------------------\n",
      "nan 0\n",
      "---------------------------------------------------------------------------\n"
     ]
    },
    {
     "name": "stderr",
     "output_type": "stream",
     "text": [
      "100%|██████████| 310/310 [00:26<00:00, 32.24it/s]"
     ]
    }
   ],
   "source": [
    "from sklearn.model_selection import train_test_split\n",
    "import pandas as pd \n",
    "\n",
    "data = pd.read_csv(r'C:\\Users\\mmmil\\Downloads\\ansgkrtksghfkddl.csv')\n",
    "data['text'] = data['Findings'] + data['Conclusion']\n",
    "data = data.drop(columns=['Findings', 'Conclusion'])\n",
    "data = data.rename(columns={'AcuteInfarction':'label'})\n",
    "\n",
    "x_train, x_valid, y_train, y_valid = train_test_split(data['text'], data['label'], test_size=0.2, shuffle=True, stratify=data['label'], random_state=34)\n",
    "x_train, x_test, y_train, y_test = train_test_split(x_train, y_train, test_size=0.25, shuffle=True, stratify=y_train, random_state=34)\n",
    "\n",
    "for i in range(len(y_true)):\n",
    "    if y_true[i]!=y_pred[i]:\n",
    "        print(x_test.values[i],y_test.values[i])\n",
    "        print('---------------------------------------------------------------------------')"
   ]
  },
  {
   "cell_type": "code",
   "execution_count": null,
   "metadata": {},
   "outputs": [],
   "source": []
  }
 ],
 "metadata": {
  "kernelspec": {
   "display_name": "Python 3.8.13 ('linkbert')",
   "language": "python",
   "name": "python3"
  },
  "language_info": {
   "codemirror_mode": {
    "name": "ipython",
    "version": 3
   },
   "file_extension": ".py",
   "mimetype": "text/x-python",
   "name": "python",
   "nbconvert_exporter": "python",
   "pygments_lexer": "ipython3",
   "version": "3.8.13"
  },
  "orig_nbformat": 4,
  "vscode": {
   "interpreter": {
    "hash": "7fd3ab79bb504293c7d46d7ab65bd53cec4e30c9750fbfec8b1c99d758d42120"
   }
  }
 },
 "nbformat": 4,
 "nbformat_minor": 2
}
